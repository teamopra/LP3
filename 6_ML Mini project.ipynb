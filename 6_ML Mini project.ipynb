{
 "cells": [
  {
   "cell_type": "markdown",
   "id": "744928f1",
   "metadata": {
    "papermill": {
     "duration": 0.010359,
     "end_time": "2023-07-10T20:47:38.866247",
     "exception": false,
     "start_time": "2023-07-10T20:47:38.855888",
     "status": "completed"
    },
    "tags": []
   },
   "source": [
    "## Import Packages"
   ]
  },
  {
   "cell_type": "code",
   "execution_count": 1,
   "id": "28ae0b3e",
   "metadata": {
    "papermill": {
     "duration": 1.792927,
     "end_time": "2023-07-10T20:47:40.669178",
     "exception": false,
     "start_time": "2023-07-10T20:47:38.876251",
     "status": "completed"
    },
    "tags": []
   },
   "outputs": [],
   "source": [
    "import pandas as pd\n",
    "import numpy as np\n",
    "from matplotlib import pyplot as plt\n",
    "import seaborn as sns\n",
    "from sklearn.metrics import accuracy_score\n",
    "from sklearn.preprocessing import LabelEncoder, OneHotEncoder\n",
    "from sklearn.impute import KNNImputer"
   ]
  },
  {
   "cell_type": "markdown",
   "id": "b2278eb6",
   "metadata": {
    "papermill": {
     "duration": 0.009857,
     "end_time": "2023-07-10T20:47:40.689696",
     "exception": false,
     "start_time": "2023-07-10T20:47:40.679839",
     "status": "completed"
    },
    "tags": []
   },
   "source": [
    "## Loading the data"
   ]
  },
  {
   "cell_type": "code",
   "execution_count": 2,
   "id": "3650ddd4",
   "metadata": {
    "papermill": {
     "duration": 0.046489,
     "end_time": "2023-07-10T20:47:40.746118",
     "exception": false,
     "start_time": "2023-07-10T20:47:40.699629",
     "status": "completed"
    },
    "tags": []
   },
   "outputs": [],
   "source": [
    "train_data=pd.read_csv('6_train.csv')\n",
    "test_data=pd.read_csv('6_test.csv')"
   ]
  },
  {
   "cell_type": "code",
   "execution_count": 3,
   "id": "1550b4fb",
   "metadata": {
    "papermill": {
     "duration": 0.038494,
     "end_time": "2023-07-10T20:47:40.795083",
     "exception": false,
     "start_time": "2023-07-10T20:47:40.756589",
     "status": "completed"
    },
    "tags": []
   },
   "outputs": [
    {
     "data": {
      "text/html": [
       "<div>\n",
       "<style scoped>\n",
       "    .dataframe tbody tr th:only-of-type {\n",
       "        vertical-align: middle;\n",
       "    }\n",
       "\n",
       "    .dataframe tbody tr th {\n",
       "        vertical-align: top;\n",
       "    }\n",
       "\n",
       "    .dataframe thead th {\n",
       "        text-align: right;\n",
       "    }\n",
       "</style>\n",
       "<table border=\"1\" class=\"dataframe\">\n",
       "  <thead>\n",
       "    <tr style=\"text-align: right;\">\n",
       "      <th></th>\n",
       "      <th>PassengerId</th>\n",
       "      <th>Survived</th>\n",
       "      <th>Pclass</th>\n",
       "      <th>Name</th>\n",
       "      <th>Sex</th>\n",
       "      <th>Age</th>\n",
       "      <th>SibSp</th>\n",
       "      <th>Parch</th>\n",
       "      <th>Ticket</th>\n",
       "      <th>Fare</th>\n",
       "      <th>Cabin</th>\n",
       "      <th>Embarked</th>\n",
       "    </tr>\n",
       "  </thead>\n",
       "  <tbody>\n",
       "    <tr>\n",
       "      <th>0</th>\n",
       "      <td>1</td>\n",
       "      <td>0</td>\n",
       "      <td>3</td>\n",
       "      <td>Braund, Mr. Owen Harris</td>\n",
       "      <td>male</td>\n",
       "      <td>22.0</td>\n",
       "      <td>1</td>\n",
       "      <td>0</td>\n",
       "      <td>A/5 21171</td>\n",
       "      <td>7.2500</td>\n",
       "      <td>NaN</td>\n",
       "      <td>S</td>\n",
       "    </tr>\n",
       "    <tr>\n",
       "      <th>1</th>\n",
       "      <td>2</td>\n",
       "      <td>1</td>\n",
       "      <td>1</td>\n",
       "      <td>Cumings, Mrs. John Bradley (Florence Briggs Th...</td>\n",
       "      <td>female</td>\n",
       "      <td>38.0</td>\n",
       "      <td>1</td>\n",
       "      <td>0</td>\n",
       "      <td>PC 17599</td>\n",
       "      <td>71.2833</td>\n",
       "      <td>C85</td>\n",
       "      <td>C</td>\n",
       "    </tr>\n",
       "    <tr>\n",
       "      <th>2</th>\n",
       "      <td>3</td>\n",
       "      <td>1</td>\n",
       "      <td>3</td>\n",
       "      <td>Heikkinen, Miss. Laina</td>\n",
       "      <td>female</td>\n",
       "      <td>26.0</td>\n",
       "      <td>0</td>\n",
       "      <td>0</td>\n",
       "      <td>STON/O2. 3101282</td>\n",
       "      <td>7.9250</td>\n",
       "      <td>NaN</td>\n",
       "      <td>S</td>\n",
       "    </tr>\n",
       "    <tr>\n",
       "      <th>3</th>\n",
       "      <td>4</td>\n",
       "      <td>1</td>\n",
       "      <td>1</td>\n",
       "      <td>Futrelle, Mrs. Jacques Heath (Lily May Peel)</td>\n",
       "      <td>female</td>\n",
       "      <td>35.0</td>\n",
       "      <td>1</td>\n",
       "      <td>0</td>\n",
       "      <td>113803</td>\n",
       "      <td>53.1000</td>\n",
       "      <td>C123</td>\n",
       "      <td>S</td>\n",
       "    </tr>\n",
       "    <tr>\n",
       "      <th>4</th>\n",
       "      <td>5</td>\n",
       "      <td>0</td>\n",
       "      <td>3</td>\n",
       "      <td>Allen, Mr. William Henry</td>\n",
       "      <td>male</td>\n",
       "      <td>35.0</td>\n",
       "      <td>0</td>\n",
       "      <td>0</td>\n",
       "      <td>373450</td>\n",
       "      <td>8.0500</td>\n",
       "      <td>NaN</td>\n",
       "      <td>S</td>\n",
       "    </tr>\n",
       "  </tbody>\n",
       "</table>\n",
       "</div>"
      ],
      "text/plain": [
       "   PassengerId  Survived  Pclass  \\\n",
       "0            1         0       3   \n",
       "1            2         1       1   \n",
       "2            3         1       3   \n",
       "3            4         1       1   \n",
       "4            5         0       3   \n",
       "\n",
       "                                                Name     Sex   Age  SibSp  \\\n",
       "0                            Braund, Mr. Owen Harris    male  22.0      1   \n",
       "1  Cumings, Mrs. John Bradley (Florence Briggs Th...  female  38.0      1   \n",
       "2                             Heikkinen, Miss. Laina  female  26.0      0   \n",
       "3       Futrelle, Mrs. Jacques Heath (Lily May Peel)  female  35.0      1   \n",
       "4                           Allen, Mr. William Henry    male  35.0      0   \n",
       "\n",
       "   Parch            Ticket     Fare Cabin Embarked  \n",
       "0      0         A/5 21171   7.2500   NaN        S  \n",
       "1      0          PC 17599  71.2833   C85        C  \n",
       "2      0  STON/O2. 3101282   7.9250   NaN        S  \n",
       "3      0            113803  53.1000  C123        S  \n",
       "4      0            373450   8.0500   NaN        S  "
      ]
     },
     "execution_count": 3,
     "metadata": {},
     "output_type": "execute_result"
    }
   ],
   "source": [
    "train_data.head()"
   ]
  },
  {
   "cell_type": "code",
   "execution_count": 4,
   "id": "0d1e7fc8",
   "metadata": {
    "papermill": {
     "duration": 0.020278,
     "end_time": "2023-07-10T20:47:40.825878",
     "exception": false,
     "start_time": "2023-07-10T20:47:40.805600",
     "status": "completed"
    },
    "tags": []
   },
   "outputs": [
    {
     "data": {
      "text/plain": [
       "(891, 12)"
      ]
     },
     "execution_count": 4,
     "metadata": {},
     "output_type": "execute_result"
    }
   ],
   "source": [
    "train_data.shape"
   ]
  },
  {
   "cell_type": "code",
   "execution_count": 5,
   "id": "8312f0a7",
   "metadata": {
    "papermill": {
     "duration": 0.038607,
     "end_time": "2023-07-10T20:47:40.875714",
     "exception": false,
     "start_time": "2023-07-10T20:47:40.837107",
     "status": "completed"
    },
    "tags": []
   },
   "outputs": [
    {
     "name": "stdout",
     "output_type": "stream",
     "text": [
      "<class 'pandas.core.frame.DataFrame'>\n",
      "RangeIndex: 891 entries, 0 to 890\n",
      "Data columns (total 12 columns):\n",
      " #   Column       Non-Null Count  Dtype  \n",
      "---  ------       --------------  -----  \n",
      " 0   PassengerId  891 non-null    int64  \n",
      " 1   Survived     891 non-null    int64  \n",
      " 2   Pclass       891 non-null    int64  \n",
      " 3   Name         891 non-null    object \n",
      " 4   Sex          891 non-null    object \n",
      " 5   Age          714 non-null    float64\n",
      " 6   SibSp        891 non-null    int64  \n",
      " 7   Parch        891 non-null    int64  \n",
      " 8   Ticket       891 non-null    object \n",
      " 9   Fare         891 non-null    float64\n",
      " 10  Cabin        204 non-null    object \n",
      " 11  Embarked     889 non-null    object \n",
      "dtypes: float64(2), int64(5), object(5)\n",
      "memory usage: 83.7+ KB\n"
     ]
    }
   ],
   "source": [
    "train_data.info()"
   ]
  },
  {
   "cell_type": "code",
   "execution_count": 6,
   "id": "111276c7",
   "metadata": {
    "papermill": {
     "duration": 0.02182,
     "end_time": "2023-07-10T20:47:40.908638",
     "exception": false,
     "start_time": "2023-07-10T20:47:40.886818",
     "status": "completed"
    },
    "tags": []
   },
   "outputs": [
    {
     "data": {
      "text/plain": [
       "Survived\n",
       "0    549\n",
       "1    342\n",
       "Name: count, dtype: int64"
      ]
     },
     "execution_count": 6,
     "metadata": {},
     "output_type": "execute_result"
    }
   ],
   "source": [
    "train_data['Survived'].value_counts()"
   ]
  },
  {
   "cell_type": "markdown",
   "id": "e481c9b4",
   "metadata": {
    "papermill": {
     "duration": 0.010594,
     "end_time": "2023-07-10T20:47:40.930904",
     "exception": false,
     "start_time": "2023-07-10T20:47:40.920310",
     "status": "completed"
    },
    "tags": []
   },
   "source": [
    "## Target Variable (Dependent Variable):\n",
    "The target variable, also known as the dependent variable or objective variable, is the variable that you want to predict or explain. It is the outcome or result that you are interested in understanding or forecasting. \n",
    "Survived or Not ( consider 0 is not Survived & 1 is Survived)\n",
    "\n",
    "## Independent Variables:\n",
    "Independent variables, also known as predictor variables or features, are the variables that are used to explain or predict the target variable. They are the inputs to your prediction model and are assumed to influence or have a relationship with the target variable.\n",
    "Other variables such as Pclass, age etc."
   ]
  },
  {
   "cell_type": "code",
   "execution_count": 7,
   "id": "bc5a9153",
   "metadata": {
    "papermill": {
     "duration": 0.02224,
     "end_time": "2023-07-10T20:47:40.963833",
     "exception": false,
     "start_time": "2023-07-10T20:47:40.941593",
     "status": "completed"
    },
    "tags": []
   },
   "outputs": [
    {
     "data": {
      "text/plain": [
       "Index([0, 1], dtype='int64', name='Survived')"
      ]
     },
     "execution_count": 7,
     "metadata": {},
     "output_type": "execute_result"
    }
   ],
   "source": [
    "train_data['Survived'].value_counts().keys()\n",
    "\n",
    "# Here this shows the categorical value which '0' and '1' , so if we want only categories we use .keys() method"
   ]
  },
  {
   "cell_type": "markdown",
   "id": "e1b1f8ac",
   "metadata": {
    "papermill": {
     "duration": 0.010406,
     "end_time": "2023-07-10T20:47:40.985370",
     "exception": false,
     "start_time": "2023-07-10T20:47:40.974964",
     "status": "completed"
    },
    "tags": []
   },
   "source": [
    " Here this shows the categorical value which '0' and '1' , so if we want only categories we use .keys() method"
   ]
  },
  {
   "cell_type": "markdown",
   "id": "698bcce3",
   "metadata": {
    "papermill": {
     "duration": 0.010252,
     "end_time": "2023-07-10T20:47:41.006103",
     "exception": false,
     "start_time": "2023-07-10T20:47:40.995851",
     "status": "completed"
    },
    "tags": []
   },
   "source": [
    "## Visualization Using Matplotlib"
   ]
  },
  {
   "cell_type": "code",
   "execution_count": 8,
   "id": "61104126",
   "metadata": {
    "papermill": {
     "duration": 0.201965,
     "end_time": "2023-07-10T20:47:41.218677",
     "exception": false,
     "start_time": "2023-07-10T20:47:41.016712",
     "status": "completed"
    },
    "scrolled": true,
    "tags": []
   },
   "outputs": [
    {
     "data": {
      "image/png": "[encoded data removed]",
      "text/plain": [
       "<Figure size 500x500 with 1 Axes>"
      ]
     },
     "metadata": {},
     "output_type": "display_data"
    }
   ],
   "source": [
    "plt.figure(figsize=(5,5))\n",
    "\n",
    "plt.bar(list(train_data[\"Survived\"].value_counts().keys()),list(train_data[\"Survived\"].value_counts()),color=[\"r\",\"g\"])\n",
    "\n",
    "plt.show()"
   ]
  },
  {
   "cell_type": "markdown",
   "id": "4386530c",
   "metadata": {
    "papermill": {
     "duration": 0.010524,
     "end_time": "2023-07-10T20:47:41.240343",
     "exception": false,
     "start_time": "2023-07-10T20:47:41.229819",
     "status": "completed"
    },
    "tags": []
   },
   "source": [
    "## Pclass - Ticket class 1st , 2nd and 3rd"
   ]
  },
  {
   "cell_type": "code",
   "execution_count": 9,
   "id": "6c793325",
   "metadata": {
    "papermill": {
     "duration": 0.022343,
     "end_time": "2023-07-10T20:47:41.273271",
     "exception": false,
     "start_time": "2023-07-10T20:47:41.250928",
     "status": "completed"
    },
    "tags": []
   },
   "outputs": [
    {
     "data": {
      "text/plain": [
       "Pclass\n",
       "3    491\n",
       "1    216\n",
       "2    184\n",
       "Name: count, dtype: int64"
      ]
     },
     "execution_count": 9,
     "metadata": {},
     "output_type": "execute_result"
    }
   ],
   "source": [
    "train_data['Pclass'].value_counts()"
   ]
  },
  {
   "cell_type": "code",
   "execution_count": 10,
   "id": "203b320e",
   "metadata": {
    "papermill": {
     "duration": 0.022611,
     "end_time": "2023-07-10T20:47:41.306883",
     "exception": false,
     "start_time": "2023-07-10T20:47:41.284272",
     "status": "completed"
    },
    "tags": []
   },
   "outputs": [
    {
     "data": {
      "text/plain": [
       "Index([3, 1, 2], dtype='int64', name='Pclass')"
      ]
     },
     "execution_count": 10,
     "metadata": {},
     "output_type": "execute_result"
    }
   ],
   "source": [
    "train_data['Pclass'].value_counts().keys()"
   ]
  },
  {
   "cell_type": "code",
   "execution_count": 11,
   "id": "d31a324a",
   "metadata": {
    "papermill": {
     "duration": 0.175662,
     "end_time": "2023-07-10T20:47:41.493639",
     "exception": false,
     "start_time": "2023-07-10T20:47:41.317977",
     "status": "completed"
    },
    "tags": []
   },
   "outputs": [
    {
     "data": {
      "image/png": "[encoded data removed]",
      "text/plain": [
       "<Figure size 500x500 with 1 Axes>"
      ]
     },
     "metadata": {},
     "output_type": "display_data"
    }
   ],
   "source": [
    "plt.figure(figsize=(5,5))\n",
    "\n",
    "plt.bar(list(train_data[\"Pclass\"].value_counts().keys()),list(train_data[\"Pclass\"].value_counts()),color=[\"blue\",\"orange\",\"green\"])\n",
    "\n",
    "plt.show()"
   ]
  },
  {
   "cell_type": "code",
   "execution_count": 12,
   "id": "8e9b2695",
   "metadata": {
    "papermill": {
     "duration": 0.021189,
     "end_time": "2023-07-10T20:47:41.526519",
     "exception": false,
     "start_time": "2023-07-10T20:47:41.505330",
     "status": "completed"
    },
    "tags": []
   },
   "outputs": [
    {
     "data": {
      "text/plain": [
       "Sex\n",
       "male      577\n",
       "female    314\n",
       "Name: count, dtype: int64"
      ]
     },
     "execution_count": 12,
     "metadata": {},
     "output_type": "execute_result"
    }
   ],
   "source": [
    "train_data['Sex'].value_counts()"
   ]
  },
  {
   "cell_type": "code",
   "execution_count": 13,
   "id": "7b95aae5",
   "metadata": {
    "papermill": {
     "duration": 0.021308,
     "end_time": "2023-07-10T20:47:41.559658",
     "exception": false,
     "start_time": "2023-07-10T20:47:41.538350",
     "status": "completed"
    },
    "tags": []
   },
   "outputs": [
    {
     "data": {
      "text/plain": [
       "Index(['male', 'female'], dtype='object', name='Sex')"
      ]
     },
     "execution_count": 13,
     "metadata": {},
     "output_type": "execute_result"
    }
   ],
   "source": [
    "train_data['Sex'].value_counts().keys()"
   ]
  },
  {
   "cell_type": "code",
   "execution_count": 14,
   "id": "c8e62c13",
   "metadata": {
    "papermill": {
     "duration": 0.136123,
     "end_time": "2023-07-10T20:47:41.707883",
     "exception": false,
     "start_time": "2023-07-10T20:47:41.571760",
     "status": "completed"
    },
    "tags": []
   },
   "outputs": [
    {
     "data": {
      "image/png": "[encoded data removed]",
      "text/plain": [
       "<Figure size 500x500 with 1 Axes>"
      ]
     },
     "metadata": {},
     "output_type": "display_data"
    }
   ],
   "source": [
    "plt.figure(figsize=(5,5))\n",
    "\n",
    "plt.bar(list(train_data[\"Sex\"].value_counts().keys()),list(train_data[\"Sex\"].value_counts()),color=[\"orange\",\"green\"])\n",
    "\n",
    "plt.show()"
   ]
  },
  {
   "cell_type": "code",
   "execution_count": 15,
   "id": "374b7a0c",
   "metadata": {
    "papermill": {
     "duration": 0.233402,
     "end_time": "2023-07-10T20:47:41.955969",
     "exception": false,
     "start_time": "2023-07-10T20:47:41.722567",
     "status": "completed"
    },
    "tags": []
   },
   "outputs": [
    {
     "data": {
      "image/png": "[encoded data removed]",
      "text/plain": [
       "<Figure size 500x700 with 1 Axes>"
      ]
     },
     "metadata": {},
     "output_type": "display_data"
    }
   ],
   "source": [
    "plt.figure(figsize=(5,7))\n",
    "plt.hist(train_data[\"Age\"],color=\"grey\")\n",
    "plt.title(\"Distribution of Age\")\n",
    "plt.xlabel(\"Age\")\n",
    "plt.show()"
   ]
  },
  {
   "cell_type": "markdown",
   "id": "37cc52fa",
   "metadata": {
    "papermill": {
     "duration": 0.011677,
     "end_time": "2023-07-10T20:47:41.979979",
     "exception": false,
     "start_time": "2023-07-10T20:47:41.968302",
     "status": "completed"
    },
    "tags": []
   },
   "source": [
    "## Data Visualization using Seaborn"
   ]
  },
  {
   "cell_type": "code",
   "execution_count": 16,
   "id": "d419f811",
   "metadata": {
    "papermill": {
     "duration": 0.169006,
     "end_time": "2023-07-10T20:47:42.160968",
     "exception": false,
     "start_time": "2023-07-10T20:47:41.991962",
     "status": "completed"
    },
    "tags": []
   },
   "outputs": [
    {
     "data": {
      "text/plain": [
       "<Axes: xlabel='Survived', ylabel='count'>"
      ]
     },
     "execution_count": 16,
     "metadata": {},
     "output_type": "execute_result"
    },
    {
     "data": {
      "image/png": "[encoded data removed]",
      "text/plain": [
       "<Figure size 640x480 with 1 Axes>"
      ]
     },
     "metadata": {},
     "output_type": "display_data"
    }
   ],
   "source": [
    "sns.countplot(x=\"Survived\",data=train_data)"
   ]
  },
  {
   "cell_type": "code",
   "execution_count": 17,
   "id": "1c5e2ace",
   "metadata": {
    "papermill": {
     "duration": 0.339844,
     "end_time": "2023-07-10T20:47:42.514025",
     "exception": false,
     "start_time": "2023-07-10T20:47:42.174181",
     "status": "completed"
    },
    "tags": []
   },
   "outputs": [
    {
     "data": {
      "text/plain": [
       "<Axes: xlabel='Count', ylabel='Age'>"
      ]
     },
     "execution_count": 17,
     "metadata": {},
     "output_type": "execute_result"
    },
    {
     "data": {
      "image/png": "[encoded data removed]",
      "text/plain": [
       "<Figure size 640x480 with 1 Axes>"
      ]
     },
     "metadata": {},
     "output_type": "display_data"
    }
   ],
   "source": [
    "sns.histplot(y=train_data[\"Age\"],hue=train_data[\"Survived\"],multiple=\"stack\")"
   ]
  },
  {
   "cell_type": "code",
   "execution_count": 18,
   "id": "810b6696",
   "metadata": {
    "papermill": {
     "duration": 0.271235,
     "end_time": "2023-07-10T20:47:42.797991",
     "exception": false,
     "start_time": "2023-07-10T20:47:42.526756",
     "status": "completed"
    },
    "tags": []
   },
   "outputs": [
    {
     "data": {
      "text/plain": [
       "<Axes: xlabel='Sex', ylabel='Age'>"
      ]
     },
     "execution_count": 18,
     "metadata": {},
     "output_type": "execute_result"
    },
    {
     "data": {
      "image/png": "[encoded data removed]",
      "text/plain": [
       "<Figure size 640x480 with 1 Axes>"
      ]
     },
     "metadata": {},
     "output_type": "display_data"
    }
   ],
   "source": [
    "sns.barplot(x='Sex',y='Age',data=train_data)\n",
    "\n",
    "#sns.barplot(x='category_variable', y='numeric_variable', data=data)"
   ]
  },
  {
   "cell_type": "code",
   "execution_count": 19,
   "id": "85205c7c",
   "metadata": {
    "papermill": {
     "duration": 0.271222,
     "end_time": "2023-07-10T20:47:43.082465",
     "exception": false,
     "start_time": "2023-07-10T20:47:42.811243",
     "status": "completed"
    },
    "tags": []
   },
   "outputs": [
    {
     "data": {
      "text/plain": [
       "<Axes: xlabel='Survived', ylabel='Age'>"
      ]
     },
     "execution_count": 19,
     "metadata": {},
     "output_type": "execute_result"
    },
    {
     "data": {
      "image/png": "[encoded data removed]",
      "text/plain": [
       "<Figure size 640x480 with 1 Axes>"
      ]
     },
     "metadata": {},
     "output_type": "display_data"
    }
   ],
   "source": [
    "\n",
    "sns.barplot(x='Survived',y='Age',data=train_data)"
   ]
  },
  {
   "cell_type": "code",
   "execution_count": 20,
   "id": "00156d2c",
   "metadata": {
    "papermill": {
     "duration": 0.242981,
     "end_time": "2023-07-10T20:47:43.339588",
     "exception": false,
     "start_time": "2023-07-10T20:47:43.096607",
     "status": "completed"
    },
    "tags": []
   },
   "outputs": [
    {
     "data": {
      "text/plain": [
       "<Axes: xlabel='Pclass', ylabel='Age'>"
      ]
     },
     "execution_count": 20,
     "metadata": {},
     "output_type": "execute_result"
    },
    {
     "data": {
      "image/png": "[encoded data removed]",
      "text/plain": [
       "<Figure size 640x480 with 1 Axes>"
      ]
     },
     "metadata": {},
     "output_type": "display_data"
    }
   ],
   "source": [
    "sns.stripplot(x='Pclass', y='Age', data=train_data)"
   ]
  },
  {
   "cell_type": "code",
   "execution_count": 21,
   "id": "aa3c8854",
   "metadata": {
    "papermill": {
     "duration": 0.046696,
     "end_time": "2023-07-10T20:47:43.400151",
     "exception": false,
     "start_time": "2023-07-10T20:47:43.353455",
     "status": "completed"
    },
    "tags": []
   },
   "outputs": [
    {
     "data": {
      "text/html": [
       "<div>\n",
       "<style scoped>\n",
       "    .dataframe tbody tr th:only-of-type {\n",
       "        vertical-align: middle;\n",
       "    }\n",
       "\n",
       "    .dataframe tbody tr th {\n",
       "        vertical-align: top;\n",
       "    }\n",
       "\n",
       "    .dataframe thead th {\n",
       "        text-align: right;\n",
       "    }\n",
       "</style>\n",
       "<table border=\"1\" class=\"dataframe\">\n",
       "  <thead>\n",
       "    <tr style=\"text-align: right;\">\n",
       "      <th></th>\n",
       "      <th>PassengerId</th>\n",
       "      <th>Survived</th>\n",
       "      <th>Pclass</th>\n",
       "      <th>Age</th>\n",
       "      <th>SibSp</th>\n",
       "      <th>Parch</th>\n",
       "      <th>Fare</th>\n",
       "    </tr>\n",
       "  </thead>\n",
       "  <tbody>\n",
       "    <tr>\n",
       "      <th>count</th>\n",
       "      <td>891.000000</td>\n",
       "      <td>891.000000</td>\n",
       "      <td>891.000000</td>\n",
       "      <td>714.000000</td>\n",
       "      <td>891.000000</td>\n",
       "      <td>891.000000</td>\n",
       "      <td>891.000000</td>\n",
       "    </tr>\n",
       "    <tr>\n",
       "      <th>mean</th>\n",
       "      <td>446.000000</td>\n",
       "      <td>0.383838</td>\n",
       "      <td>2.308642</td>\n",
       "      <td>29.699118</td>\n",
       "      <td>0.523008</td>\n",
       "      <td>0.381594</td>\n",
       "      <td>32.204208</td>\n",
       "    </tr>\n",
       "    <tr>\n",
       "      <th>std</th>\n",
       "      <td>257.353842</td>\n",
       "      <td>0.486592</td>\n",
       "      <td>0.836071</td>\n",
       "      <td>14.526497</td>\n",
       "      <td>1.102743</td>\n",
       "      <td>0.806057</td>\n",
       "      <td>49.693429</td>\n",
       "    </tr>\n",
       "    <tr>\n",
       "      <th>min</th>\n",
       "      <td>1.000000</td>\n",
       "      <td>0.000000</td>\n",
       "      <td>1.000000</td>\n",
       "      <td>0.420000</td>\n",
       "      <td>0.000000</td>\n",
       "      <td>0.000000</td>\n",
       "      <td>0.000000</td>\n",
       "    </tr>\n",
       "    <tr>\n",
       "      <th>25%</th>\n",
       "      <td>223.500000</td>\n",
       "      <td>0.000000</td>\n",
       "      <td>2.000000</td>\n",
       "      <td>20.125000</td>\n",
       "      <td>0.000000</td>\n",
       "      <td>0.000000</td>\n",
       "      <td>7.910400</td>\n",
       "    </tr>\n",
       "    <tr>\n",
       "      <th>50%</th>\n",
       "      <td>446.000000</td>\n",
       "      <td>0.000000</td>\n",
       "      <td>3.000000</td>\n",
       "      <td>28.000000</td>\n",
       "      <td>0.000000</td>\n",
       "      <td>0.000000</td>\n",
       "      <td>14.454200</td>\n",
       "    </tr>\n",
       "    <tr>\n",
       "      <th>75%</th>\n",
       "      <td>668.500000</td>\n",
       "      <td>1.000000</td>\n",
       "      <td>3.000000</td>\n",
       "      <td>38.000000</td>\n",
       "      <td>1.000000</td>\n",
       "      <td>0.000000</td>\n",
       "      <td>31.000000</td>\n",
       "    </tr>\n",
       "    <tr>\n",
       "      <th>max</th>\n",
       "      <td>891.000000</td>\n",
       "      <td>1.000000</td>\n",
       "      <td>3.000000</td>\n",
       "      <td>80.000000</td>\n",
       "      <td>8.000000</td>\n",
       "      <td>6.000000</td>\n",
       "      <td>512.329200</td>\n",
       "    </tr>\n",
       "  </tbody>\n",
       "</table>\n",
       "</div>"
      ],
      "text/plain": [
       "       PassengerId    Survived      Pclass         Age       SibSp  \\\n",
       "count   891.000000  891.000000  891.000000  714.000000  891.000000   \n",
       "mean    446.000000    0.383838    2.308642   29.699118    0.523008   \n",
       "std     257.353842    0.486592    0.836071   14.526497    1.102743   \n",
       "min       1.000000    0.000000    1.000000    0.420000    0.000000   \n",
       "25%     223.500000    0.000000    2.000000   20.125000    0.000000   \n",
       "50%     446.000000    0.000000    3.000000   28.000000    0.000000   \n",
       "75%     668.500000    1.000000    3.000000   38.000000    1.000000   \n",
       "max     891.000000    1.000000    3.000000   80.000000    8.000000   \n",
       "\n",
       "            Parch        Fare  \n",
       "count  891.000000  891.000000  \n",
       "mean     0.381594   32.204208  \n",
       "std      0.806057   49.693429  \n",
       "min      0.000000    0.000000  \n",
       "25%      0.000000    7.910400  \n",
       "50%      0.000000   14.454200  \n",
       "75%      0.000000   31.000000  \n",
       "max      6.000000  512.329200  "
      ]
     },
     "execution_count": 21,
     "metadata": {},
     "output_type": "execute_result"
    }
   ],
   "source": [
    "train_data.describe()"
   ]
  },
  {
   "cell_type": "markdown",
   "id": "4916e35b",
   "metadata": {
    "papermill": {
     "duration": 0.013685,
     "end_time": "2023-07-10T20:47:43.428343",
     "exception": false,
     "start_time": "2023-07-10T20:47:43.414658",
     "status": "completed"
    },
    "tags": []
   },
   "source": [
    "## Preprocess the training data"
   ]
  },
  {
   "cell_type": "code",
   "execution_count": 22,
   "id": "8b0e1a2d",
   "metadata": {
    "papermill": {
     "duration": 0.026079,
     "end_time": "2023-07-10T20:47:43.468452",
     "exception": false,
     "start_time": "2023-07-10T20:47:43.442373",
     "status": "completed"
    },
    "tags": []
   },
   "outputs": [],
   "source": [
    "train_data.drop(['PassengerId', 'Name', 'Ticket', 'Embarked'], axis=1, inplace=True)\n",
    "train_data['Sex'] = LabelEncoder().fit_transform(train_data['Sex'])"
   ]
  },
  {
   "cell_type": "markdown",
   "id": "a20b40f2",
   "metadata": {
    "papermill": {
     "duration": 0.014447,
     "end_time": "2023-07-10T20:47:43.498063",
     "exception": false,
     "start_time": "2023-07-10T20:47:43.483616",
     "status": "completed"
    },
    "tags": []
   },
   "source": [
    "## Preprocess the test data"
   ]
  },
  {
   "cell_type": "code",
   "execution_count": 23,
   "id": "39521fe5",
   "metadata": {
    "papermill": {
     "duration": 0.023996,
     "end_time": "2023-07-10T20:47:43.536794",
     "exception": false,
     "start_time": "2023-07-10T20:47:43.512798",
     "status": "completed"
    },
    "tags": []
   },
   "outputs": [],
   "source": [
    "test_data.drop(['PassengerId', 'Name', 'Ticket', 'Embarked'], axis=1, inplace=True)\n",
    "test_data['Sex'] = LabelEncoder().fit_transform(test_data['Sex'])"
   ]
  },
  {
   "cell_type": "markdown",
   "id": "4735d028",
   "metadata": {
    "papermill": {
     "duration": 0.013582,
     "end_time": "2023-07-10T20:47:43.564713",
     "exception": false,
     "start_time": "2023-07-10T20:47:43.551131",
     "status": "completed"
    },
    "tags": []
   },
   "source": [
    "## Extract the first letter of the 'Cabin' column and encode it using one-hot encoding"
   ]
  },
  {
   "cell_type": "code",
   "execution_count": 24,
   "id": "ea405487",
   "metadata": {
    "papermill": {
     "duration": 0.026892,
     "end_time": "2023-07-10T20:47:43.605556",
     "exception": false,
     "start_time": "2023-07-10T20:47:43.578664",
     "status": "completed"
    },
    "tags": []
   },
   "outputs": [],
   "source": [
    "train_data['Cabin'] = train_data['Cabin'].str[0]\n",
    "train_data = pd.get_dummies(train_data, columns=['Cabin'])"
   ]
  },
  {
   "cell_type": "code",
   "execution_count": 25,
   "id": "e979c23d",
   "metadata": {
    "papermill": {
     "duration": 0.031434,
     "end_time": "2023-07-10T20:47:43.651177",
     "exception": false,
     "start_time": "2023-07-10T20:47:43.619743",
     "status": "completed"
    },
    "tags": []
   },
   "outputs": [
    {
     "name": "stdout",
     "output_type": "stream",
     "text": [
      "<class 'pandas.core.frame.DataFrame'>\n",
      "RangeIndex: 891 entries, 0 to 890\n",
      "Data columns (total 15 columns):\n",
      " #   Column    Non-Null Count  Dtype  \n",
      "---  ------    --------------  -----  \n",
      " 0   Survived  891 non-null    int64  \n",
      " 1   Pclass    891 non-null    int64  \n",
      " 2   Sex       891 non-null    int32  \n",
      " 3   Age       714 non-null    float64\n",
      " 4   SibSp     891 non-null    int64  \n",
      " 5   Parch     891 non-null    int64  \n",
      " 6   Fare      891 non-null    float64\n",
      " 7   Cabin_A   891 non-null    bool   \n",
      " 8   Cabin_B   891 non-null    bool   \n",
      " 9   Cabin_C   891 non-null    bool   \n",
      " 10  Cabin_D   891 non-null    bool   \n",
      " 11  Cabin_E   891 non-null    bool   \n",
      " 12  Cabin_F   891 non-null    bool   \n",
      " 13  Cabin_G   891 non-null    bool   \n",
      " 14  Cabin_T   891 non-null    bool   \n",
      "dtypes: bool(8), float64(2), int32(1), int64(4)\n",
      "memory usage: 52.3 KB\n"
     ]
    }
   ],
   "source": [
    "train_data.info()"
   ]
  },
  {
   "cell_type": "markdown",
   "id": "004cefa2",
   "metadata": {
    "papermill": {
     "duration": 0.014059,
     "end_time": "2023-07-10T20:47:43.679756",
     "exception": false,
     "start_time": "2023-07-10T20:47:43.665697",
     "status": "completed"
    },
    "tags": []
   },
   "source": [
    "## Handling Missing values of Training Dataset"
   ]
  },
  {
   "cell_type": "code",
   "execution_count": 26,
   "id": "30a27582",
   "metadata": {
    "papermill": {
     "duration": 0.042374,
     "end_time": "2023-07-10T20:47:43.736721",
     "exception": false,
     "start_time": "2023-07-10T20:47:43.694347",
     "status": "completed"
    },
    "tags": []
   },
   "outputs": [],
   "source": [
    "imputer = KNNImputer(n_neighbors=5)\n",
    "train_data[['Age', 'Fare']] = imputer.fit_transform(train_data[['Age', 'Fare']])\n",
    "\n"
   ]
  },
  {
   "cell_type": "markdown",
   "id": "fc3748ab",
   "metadata": {
    "papermill": {
     "duration": 0.017699,
     "end_time": "2023-07-10T20:47:43.773083",
     "exception": false,
     "start_time": "2023-07-10T20:47:43.755384",
     "status": "completed"
    },
    "tags": []
   },
   "source": [
    "## Handling Missing values of Test Dataset"
   ]
  },
  {
   "cell_type": "code",
   "execution_count": 27,
   "id": "994f8e04",
   "metadata": {
    "papermill": {
     "duration": 0.033146,
     "end_time": "2023-07-10T20:47:43.823874",
     "exception": false,
     "start_time": "2023-07-10T20:47:43.790728",
     "status": "completed"
    },
    "tags": []
   },
   "outputs": [],
   "source": [
    "\n",
    "test_data[['Age', 'Fare']] = imputer.fit_transform(test_data[['Age', 'Fare']])"
   ]
  },
  {
   "cell_type": "markdown",
   "id": "fea98e6a",
   "metadata": {
    "papermill": {
     "duration": 0.014295,
     "end_time": "2023-07-10T20:47:43.855919",
     "exception": false,
     "start_time": "2023-07-10T20:47:43.841624",
     "status": "completed"
    },
    "tags": []
   },
   "source": [
    "## Align the columns in the test data with the training data"
   ]
  },
  {
   "cell_type": "code",
   "execution_count": 28,
   "id": "80b673b0",
   "metadata": {
    "papermill": {
     "duration": 0.02854,
     "end_time": "2023-07-10T20:47:43.898134",
     "exception": false,
     "start_time": "2023-07-10T20:47:43.869594",
     "status": "completed"
    },
    "tags": []
   },
   "outputs": [],
   "source": [
    "test_data['Cabin'] = test_data['Cabin'].str[0]\n",
    "test_data = pd.get_dummies(test_data, columns=['Cabin'])\n",
    "missing_columns = set(train_data.columns) - set(test_data.columns)\n",
    "for column in missing_columns:\n",
    "    test_data[column] = 0"
   ]
  },
  {
   "cell_type": "code",
   "execution_count": 29,
   "id": "1a48c206",
   "metadata": {
    "papermill": {
     "duration": 0.027915,
     "end_time": "2023-07-10T20:47:43.940092",
     "exception": false,
     "start_time": "2023-07-10T20:47:43.912177",
     "status": "completed"
    },
    "tags": []
   },
   "outputs": [
    {
     "name": "stdout",
     "output_type": "stream",
     "text": [
      "<class 'pandas.core.frame.DataFrame'>\n",
      "RangeIndex: 891 entries, 0 to 890\n",
      "Data columns (total 15 columns):\n",
      " #   Column    Non-Null Count  Dtype  \n",
      "---  ------    --------------  -----  \n",
      " 0   Survived  891 non-null    int64  \n",
      " 1   Pclass    891 non-null    int64  \n",
      " 2   Sex       891 non-null    int32  \n",
      " 3   Age       891 non-null    float64\n",
      " 4   SibSp     891 non-null    int64  \n",
      " 5   Parch     891 non-null    int64  \n",
      " 6   Fare      891 non-null    float64\n",
      " 7   Cabin_A   891 non-null    bool   \n",
      " 8   Cabin_B   891 non-null    bool   \n",
      " 9   Cabin_C   891 non-null    bool   \n",
      " 10  Cabin_D   891 non-null    bool   \n",
      " 11  Cabin_E   891 non-null    bool   \n",
      " 12  Cabin_F   891 non-null    bool   \n",
      " 13  Cabin_G   891 non-null    bool   \n",
      " 14  Cabin_T   891 non-null    bool   \n",
      "dtypes: bool(8), float64(2), int32(1), int64(4)\n",
      "memory usage: 52.3 KB\n"
     ]
    }
   ],
   "source": [
    "train_data.info()"
   ]
  },
  {
   "cell_type": "markdown",
   "id": "73b357e1",
   "metadata": {
    "papermill": {
     "duration": 0.014198,
     "end_time": "2023-07-10T20:47:43.968208",
     "exception": false,
     "start_time": "2023-07-10T20:47:43.954010",
     "status": "completed"
    },
    "tags": []
   },
   "source": [
    "## Building Dependent and Independent variable"
   ]
  },
  {
   "cell_type": "code",
   "execution_count": 30,
   "id": "accdb993",
   "metadata": {
    "papermill": {
     "duration": 0.02545,
     "end_time": "2023-07-10T20:47:44.008532",
     "exception": false,
     "start_time": "2023-07-10T20:47:43.983082",
     "status": "completed"
    },
    "tags": []
   },
   "outputs": [],
   "source": [
    "X_train = train_data.drop('Survived', axis=1)\n",
    "y_train = train_data['Survived']"
   ]
  },
  {
   "cell_type": "markdown",
   "id": "7380746c",
   "metadata": {
    "papermill": {
     "duration": 0.013859,
     "end_time": "2023-07-10T20:47:44.036652",
     "exception": false,
     "start_time": "2023-07-10T20:47:44.022793",
     "status": "completed"
    },
    "tags": []
   },
   "source": [
    "## Building model  (LogisticRegression)"
   ]
  },
  {
   "cell_type": "code",
   "execution_count": 31,
   "id": "c4ec6fdd",
   "metadata": {
    "papermill": {
     "duration": 0.061715,
     "end_time": "2023-07-10T20:47:44.112606",
     "exception": false,
     "start_time": "2023-07-10T20:47:44.050891",
     "status": "completed"
    },
    "tags": []
   },
   "outputs": [],
   "source": [
    "from sklearn.tree import DecisionTreeClassifier\n",
    "from sklearn.preprocessing import LabelEncoder, OneHotEncoder, StandardScaler"
   ]
  },
  {
   "cell_type": "code",
   "execution_count": 32,
   "id": "34ec5112",
   "metadata": {
    "papermill": {
     "duration": 0.020976,
     "end_time": "2023-07-10T20:47:44.147683",
     "exception": false,
     "start_time": "2023-07-10T20:47:44.126707",
     "status": "completed"
    },
    "tags": []
   },
   "outputs": [],
   "source": [
    "model = DecisionTreeClassifier(random_state=42)"
   ]
  },
  {
   "cell_type": "code",
   "execution_count": 33,
   "id": "8bcb4ad7",
   "metadata": {
    "papermill": {
     "duration": 0.033622,
     "end_time": "2023-07-10T20:47:44.195175",
     "exception": false,
     "start_time": "2023-07-10T20:47:44.161553",
     "status": "completed"
    },
    "tags": []
   },
   "outputs": [
    {
     "data": {
      "text/html": [
       "<style>#sk-container-id-1 {color: black;}#sk-container-id-1 pre{padding: 0;}#sk-container-id-1 div.sk-toggleable {background-color: white;}#sk-container-id-1 label.sk-toggleable__label {cursor: pointer;display: block;width: 100%;margin-bottom: 0;padding: 0.3em;box-sizing: border-box;text-align: center;}#sk-container-id-1 label.sk-toggleable__label-arrow:before {content: \"▸\";float: left;margin-right: 0.25em;color: #696969;}#sk-container-id-1 label.sk-toggleable__label-arrow:hover:before {color: black;}#sk-container-id-1 div.sk-estimator:hover label.sk-toggleable__label-arrow:before {color: black;}#sk-container-id-1 div.sk-toggleable__content {max-height: 0;max-width: 0;overflow: hidden;text-align: left;background-color: #f0f8ff;}#sk-container-id-1 div.sk-toggleable__content pre {margin: 0.2em;color: black;border-radius: 0.25em;background-color: #f0f8ff;}#sk-container-id-1 input.sk-toggleable__control:checked~div.sk-toggleable__content {max-height: 200px;max-width: 100%;overflow: auto;}#sk-container-id-1 input.sk-toggleable__control:checked~label.sk-toggleable__label-arrow:before {content: \"▾\";}#sk-container-id-1 div.sk-estimator input.sk-toggleable__control:checked~label.sk-toggleable__label {background-color: #d4ebff;}#sk-container-id-1 div.sk-label input.sk-toggleable__control:checked~label.sk-toggleable__label {background-color: #d4ebff;}#sk-container-id-1 input.sk-hidden--visually {border: 0;clip: rect(1px 1px 1px 1px);clip: rect(1px, 1px, 1px, 1px);height: 1px;margin: -1px;overflow: hidden;padding: 0;position: absolute;width: 1px;}#sk-container-id-1 div.sk-estimator {font-family: monospace;background-color: #f0f8ff;border: 1px dotted black;border-radius: 0.25em;box-sizing: border-box;margin-bottom: 0.5em;}#sk-container-id-1 div.sk-estimator:hover {background-color: #d4ebff;}#sk-container-id-1 div.sk-parallel-item::after {content: \"\";width: 100%;border-bottom: 1px solid gray;flex-grow: 1;}#sk-container-id-1 div.sk-label:hover label.sk-toggleable__label {background-color: #d4ebff;}#sk-container-id-1 div.sk-serial::before {content: \"\";position: absolute;border-left: 1px solid gray;box-sizing: border-box;top: 0;bottom: 0;left: 50%;z-index: 0;}#sk-container-id-1 div.sk-serial {display: flex;flex-direction: column;align-items: center;background-color: white;padding-right: 0.2em;padding-left: 0.2em;position: relative;}#sk-container-id-1 div.sk-item {position: relative;z-index: 1;}#sk-container-id-1 div.sk-parallel {display: flex;align-items: stretch;justify-content: center;background-color: white;position: relative;}#sk-container-id-1 div.sk-item::before, #sk-container-id-1 div.sk-parallel-item::before {content: \"\";position: absolute;border-left: 1px solid gray;box-sizing: border-box;top: 0;bottom: 0;left: 50%;z-index: -1;}#sk-container-id-1 div.sk-parallel-item {display: flex;flex-direction: column;z-index: 1;position: relative;background-color: white;}#sk-container-id-1 div.sk-parallel-item:first-child::after {align-self: flex-end;width: 50%;}#sk-container-id-1 div.sk-parallel-item:last-child::after {align-self: flex-start;width: 50%;}#sk-container-id-1 div.sk-parallel-item:only-child::after {width: 0;}#sk-container-id-1 div.sk-dashed-wrapped {border: 1px dashed gray;margin: 0 0.4em 0.5em 0.4em;box-sizing: border-box;padding-bottom: 0.4em;background-color: white;}#sk-container-id-1 div.sk-label label {font-family: monospace;font-weight: bold;display: inline-block;line-height: 1.2em;}#sk-container-id-1 div.sk-label-container {text-align: center;}#sk-container-id-1 div.sk-container {/* jupyter's `normalize.less` sets `[hidden] { display: none; }` but bootstrap.min.css set `[hidden] { display: none !important; }` so we also need the `!important` here to be able to override the default hidden behavior on the sphinx rendered scikit-learn.org. See: https://github.com/scikit-learn/scikit-learn/issues/21755 */display: inline-block !important;position: relative;}#sk-container-id-1 div.sk-text-repr-fallback {display: none;}</style><div id=\"sk-container-id-1\" class=\"sk-top-container\"><div class=\"sk-text-repr-fallback\"><pre>DecisionTreeClassifier(random_state=42)</pre><b>In a Jupyter environment, please rerun this cell to show the HTML representation or trust the notebook. <br />On GitHub, the HTML representation is unable to render, please try loading this page with nbviewer.org.</b></div><div class=\"sk-container\" hidden><div class=\"sk-item\"><div class=\"sk-estimator sk-toggleable\"><input class=\"sk-toggleable__control sk-hidden--visually\" id=\"sk-estimator-id-1\" type=\"checkbox\" checked><label for=\"sk-estimator-id-1\" class=\"sk-toggleable__label sk-toggleable__label-arrow\">DecisionTreeClassifier</label><div class=\"sk-toggleable__content\"><pre>DecisionTreeClassifier(random_state=42)</pre></div></div></div></div></div>"
      ],
      "text/plain": [
       "DecisionTreeClassifier(random_state=42)"
      ]
     },
     "execution_count": 33,
     "metadata": {},
     "output_type": "execute_result"
    }
   ],
   "source": [
    "model.fit(X_train, y_train)"
   ]
  },
  {
   "cell_type": "markdown",
   "id": "2691c26f",
   "metadata": {
    "papermill": {
     "duration": 0.013976,
     "end_time": "2023-07-10T20:47:44.223605",
     "exception": false,
     "start_time": "2023-07-10T20:47:44.209629",
     "status": "completed"
    },
    "tags": []
   },
   "source": [
    "## Predicting values on training data"
   ]
  },
  {
   "cell_type": "code",
   "execution_count": 34,
   "id": "b941d35a",
   "metadata": {
    "papermill": {
     "duration": 0.023343,
     "end_time": "2023-07-10T20:47:44.260997",
     "exception": false,
     "start_time": "2023-07-10T20:47:44.237654",
     "status": "completed"
    },
    "tags": []
   },
   "outputs": [],
   "source": [
    "y_train_pred = model.predict(X_train)"
   ]
  },
  {
   "cell_type": "markdown",
   "id": "b3e67bfa",
   "metadata": {
    "papermill": {
     "duration": 0.014218,
     "end_time": "2023-07-10T20:47:44.290132",
     "exception": false,
     "start_time": "2023-07-10T20:47:44.275914",
     "status": "completed"
    },
    "tags": []
   },
   "source": [
    "## Calculate accuracy on the training data"
   ]
  },
  {
   "cell_type": "code",
   "execution_count": 35,
   "id": "bcf21bd2",
   "metadata": {
    "papermill": {
     "duration": 0.024471,
     "end_time": "2023-07-10T20:47:44.329168",
     "exception": false,
     "start_time": "2023-07-10T20:47:44.304697",
     "status": "completed"
    },
    "tags": []
   },
   "outputs": [
    {
     "name": "stdout",
     "output_type": "stream",
     "text": [
      "Accuracy: 0.9865319865319865\n"
     ]
    }
   ],
   "source": [
    "train_accuracy = accuracy_score(y_train, y_train_pred)\n",
    "print(\"Accuracy:\", train_accuracy)"
   ]
  },
  {
   "cell_type": "markdown",
   "id": "76b1817b",
   "metadata": {
    "papermill": {
     "duration": 0.013964,
     "end_time": "2023-07-10T20:47:44.357378",
     "exception": false,
     "start_time": "2023-07-10T20:47:44.343414",
     "status": "completed"
    },
    "tags": []
   },
   "source": [
    "## Predicting values on test data"
   ]
  },
  {
   "cell_type": "code",
   "execution_count": 36,
   "id": "ac4c1834",
   "metadata": {
    "papermill": {
     "duration": 0.022642,
     "end_time": "2023-07-10T20:47:44.394176",
     "exception": false,
     "start_time": "2023-07-10T20:47:44.371534",
     "status": "completed"
    },
    "tags": []
   },
   "outputs": [],
   "source": [
    "test_data.drop('Survived', axis=1, inplace=True)"
   ]
  },
  {
   "cell_type": "code",
   "execution_count": 37,
   "id": "0daea888",
   "metadata": {
    "papermill": {
     "duration": 0.024653,
     "end_time": "2023-07-10T20:47:44.432827",
     "exception": false,
     "start_time": "2023-07-10T20:47:44.408174",
     "status": "completed"
    },
    "tags": []
   },
   "outputs": [],
   "source": [
    "predictions = model.predict(test_data)"
   ]
  },
  {
   "cell_type": "code",
   "execution_count": 40,
   "id": "2081ccb7",
   "metadata": {
    "papermill": {
     "duration": 0.026171,
     "end_time": "2023-07-10T20:47:44.473129",
     "exception": false,
     "start_time": "2023-07-10T20:47:44.446958",
     "status": "completed"
    },
    "tags": []
   },
   "outputs": [],
   "source": [
    "passenger_ids = pd.read_csv('6_test.csv')['PassengerId']\n",
    "output = pd.DataFrame({'PassengerId': passenger_ids, 'Survived': predictions})"
   ]
  },
  {
   "cell_type": "code",
   "execution_count": 41,
   "id": "9b0ca0ec",
   "metadata": {
    "papermill": {
     "duration": 0.026357,
     "end_time": "2023-07-10T20:47:44.514103",
     "exception": false,
     "start_time": "2023-07-10T20:47:44.487746",
     "status": "completed"
    },
    "tags": []
   },
   "outputs": [
    {
     "name": "stdout",
     "output_type": "stream",
     "text": [
      "     PassengerId  Survived\n",
      "0            892         0\n",
      "1            893         0\n",
      "2            894         1\n",
      "3            895         1\n",
      "4            896         1\n",
      "..           ...       ...\n",
      "413         1305         0\n",
      "414         1306         1\n",
      "415         1307         0\n",
      "416         1308         0\n",
      "417         1309         0\n",
      "\n",
      "[418 rows x 2 columns]\n"
     ]
    }
   ],
   "source": [
    "print(output)"
   ]
  },
  {
   "cell_type": "markdown",
   "id": "9eb9e10c",
   "metadata": {
    "papermill": {
     "duration": 0.013998,
     "end_time": "2023-07-10T20:47:44.542651",
     "exception": false,
     "start_time": "2023-07-10T20:47:44.528653",
     "status": "completed"
    },
    "tags": []
   },
   "source": [
    "## Save the predictions to a CSV file"
   ]
  },
  {
   "cell_type": "code",
   "execution_count": 42,
   "id": "42bbf7af",
   "metadata": {
    "papermill": {
     "duration": 0.026826,
     "end_time": "2023-07-10T20:47:44.584272",
     "exception": false,
     "start_time": "2023-07-10T20:47:44.557446",
     "status": "completed"
    },
    "tags": []
   },
   "outputs": [],
   "source": [
    "output.to_csv('predictions_DecisionTreeClassifier.csv', index=False)"
   ]
  },
  {
   "cell_type": "code",
   "execution_count": null,
   "id": "dbfc46b5",
   "metadata": {
    "papermill": {
     "duration": 0.01526,
     "end_time": "2023-07-10T20:47:44.615074",
     "exception": false,
     "start_time": "2023-07-10T20:47:44.599814",
     "status": "completed"
    },
    "tags": []
   },
   "outputs": [],
   "source": []
  }
 ],
 "metadata": {
  "kernelspec": {
   "display_name": "Python 3 (ipykernel)",
   "language": "python",
   "name": "python3"
  },
  "language_info": {
   "codemirror_mode": {
    "name": "ipython",
    "version": 3
   },
   "file_extension": ".py",
   "mimetype": "text/x-python",
   "name": "python",
   "nbconvert_exporter": "python",
   "pygments_lexer": "ipython3",
   "version": "3.11.4"
  },
  "papermill": {
   "default_parameters": {},
   "duration": 15.063889,
   "end_time": "2023-07-10T20:47:45.651957",
   "environment_variables": {},
   "exception": null,
   "input_path": "__notebook__.ipynb",
   "output_path": "__notebook__.ipynb",
   "parameters": {},
   "start_time": "2023-07-10T20:47:30.588068",
   "version": "2.4.0"
  }
 },
 "nbformat": 4,
 "nbformat_minor": 5
}
